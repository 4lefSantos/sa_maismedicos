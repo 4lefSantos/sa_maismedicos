{
 "cells": [
  {
   "cell_type": "markdown",
   "metadata": {},
   "source": [
    "# Análise preditiva do Programa Mais Médicos"
   ]
  },
  {
   "cell_type": "markdown",
   "metadata": {},
   "source": [
    "## 1. Análise preditiva para desfecho categórico (churn)"
   ]
  },
  {
   "cell_type": "code",
   "execution_count": 14,
   "metadata": {},
   "outputs": [],
   "source": [
    "import pandas as pd\n",
    "import numpy as np\n",
    "import shap\n",
    "from sklearn.model_selection import train_test_split, StratifiedKFold, GridSearchCV\n",
    "from sklearn.preprocessing import StandardScaler, OneHotEncoder, LabelEncoder\n",
    "from sklearn.compose import ColumnTransformer\n",
    "from sklearn.pipeline import Pipeline\n",
    "from sklearn.impute import SimpleImputer\n",
    "from sklearn.metrics import accuracy_score, precision_score, recall_score, f1_score, roc_auc_score, confusion_matrix, roc_curve, auc, precision_recall_curve\n",
    "from sklearn.linear_model import LogisticRegression\n",
    "from sklearn.tree import DecisionTreeClassifier\n",
    "from sklearn.svm import SVC\n",
    "from sklearn.ensemble import RandomForestClassifier\n",
    "import xgboost as xgb\n",
    "import lightgbm as lgb\n",
    "import matplotlib.pyplot as plt\n",
    "import seaborn as sns\n",
    "from imblearn.over_sampling import SMOTE\n",
    "import optuna\n"
   ]
  },
  {
   "cell_type": "markdown",
   "metadata": {},
   "source": [
    "### Carregamento dos dados"
   ]
  },
  {
   "cell_type": "code",
   "execution_count": 2,
   "metadata": {},
   "outputs": [],
   "source": [
    "df = pd.read_csv('C:\\\\Users\\\\Lapei_Cigets\\\\Documents\\\\GitHub\\\\sa_maismedicos\\\\01_dados\\\\dados resultantes\\\\df_modelagem.csv')\n",
    "\n",
    "df = df.drop([\"Unnamed: 0\",\n",
    "              \"meses_no_local_alocado\"], \n",
    "             axis='columns')\n",
    "\n",
    "df[['m_agente_saude', 'm_tec_aux_enf', 'm_enfermeiro', 'm_dentista']] = df[['m_agente_saude', 'm_tec_aux_enf', 'm_enfermeiro', 'm_dentista']].fillna(0)\n",
    "df['churn'] = df['churn'].map({'permanece': 0, 'migrou': 1})"
   ]
  },
  {
   "cell_type": "code",
   "execution_count": 3,
   "metadata": {
    "scrolled": true
   },
   "outputs": [
    {
     "data": {
      "text/html": [
       "<div>\n",
       "<style scoped>\n",
       "    .dataframe tbody tr th:only-of-type {\n",
       "        vertical-align: middle;\n",
       "    }\n",
       "\n",
       "    .dataframe tbody tr th {\n",
       "        vertical-align: top;\n",
       "    }\n",
       "\n",
       "    .dataframe thead th {\n",
       "        text-align: right;\n",
       "    }\n",
       "</style>\n",
       "<table border=\"1\" class=\"dataframe\">\n",
       "  <thead>\n",
       "    <tr style=\"text-align: right;\">\n",
       "      <th></th>\n",
       "      <th>churn</th>\n",
       "      <th>idade</th>\n",
       "      <th>atuacao_previa_no_municipio</th>\n",
       "      <th>anos_atuacao_previa_no_municipio</th>\n",
       "      <th>media_vinculos_mes</th>\n",
       "      <th>Prorrogado</th>\n",
       "      <th>m_agente_saude</th>\n",
       "      <th>m_tec_aux_enf</th>\n",
       "      <th>m_enfermeiro</th>\n",
       "      <th>m_dentista</th>\n",
       "      <th>...</th>\n",
       "      <th>variacao_pib</th>\n",
       "      <th>tx_pop_ocupada_2019</th>\n",
       "      <th>orcamento_saude</th>\n",
       "      <th>esgotamento_sanitario</th>\n",
       "      <th>taxa_homicidio</th>\n",
       "      <th>ideb_anosfinais</th>\n",
       "      <th>investimento_infraestrutura</th>\n",
       "      <th>equipamentos_esportivos</th>\n",
       "      <th>equipamentos_culturais</th>\n",
       "      <th>distancia_capital</th>\n",
       "    </tr>\n",
       "  </thead>\n",
       "  <tbody>\n",
       "    <tr>\n",
       "      <th>0</th>\n",
       "      <td>0</td>\n",
       "      <td>35</td>\n",
       "      <td>Não</td>\n",
       "      <td>0.0</td>\n",
       "      <td>2.343284</td>\n",
       "      <td>NÃO</td>\n",
       "      <td>9.473684</td>\n",
       "      <td>8.513158</td>\n",
       "      <td>4.815789</td>\n",
       "      <td>0.000000</td>\n",
       "      <td>...</td>\n",
       "      <td>66</td>\n",
       "      <td>11.356216</td>\n",
       "      <td>366.57</td>\n",
       "      <td>0.0</td>\n",
       "      <td>33.946</td>\n",
       "      <td>4.3</td>\n",
       "      <td>103.676</td>\n",
       "      <td>5.703</td>\n",
       "      <td>9.125</td>\n",
       "      <td>636.0</td>\n",
       "    </tr>\n",
       "    <tr>\n",
       "      <th>1</th>\n",
       "      <td>1</td>\n",
       "      <td>30</td>\n",
       "      <td>Não</td>\n",
       "      <td>0.0</td>\n",
       "      <td>1.000000</td>\n",
       "      <td>NÃO</td>\n",
       "      <td>13.375000</td>\n",
       "      <td>1.000000</td>\n",
       "      <td>1.625000</td>\n",
       "      <td>1.000000</td>\n",
       "      <td>...</td>\n",
       "      <td>61</td>\n",
       "      <td>15.844714</td>\n",
       "      <td>683.09</td>\n",
       "      <td>0.0</td>\n",
       "      <td>64.522</td>\n",
       "      <td>4.7</td>\n",
       "      <td>5021.768</td>\n",
       "      <td>18.540</td>\n",
       "      <td>4.635</td>\n",
       "      <td>114.0</td>\n",
       "    </tr>\n",
       "    <tr>\n",
       "      <th>2</th>\n",
       "      <td>0</td>\n",
       "      <td>75</td>\n",
       "      <td>Não</td>\n",
       "      <td>0.0</td>\n",
       "      <td>1.000000</td>\n",
       "      <td>SIM</td>\n",
       "      <td>9.411765</td>\n",
       "      <td>3.562500</td>\n",
       "      <td>1.889706</td>\n",
       "      <td>1.338235</td>\n",
       "      <td>...</td>\n",
       "      <td>120</td>\n",
       "      <td>8.658503</td>\n",
       "      <td>626.30</td>\n",
       "      <td>0.0</td>\n",
       "      <td>37.161</td>\n",
       "      <td>4.6</td>\n",
       "      <td>3097.942</td>\n",
       "      <td>0.000</td>\n",
       "      <td>4.144</td>\n",
       "      <td>147.0</td>\n",
       "    </tr>\n",
       "    <tr>\n",
       "      <th>3</th>\n",
       "      <td>1</td>\n",
       "      <td>37</td>\n",
       "      <td>Não</td>\n",
       "      <td>0.0</td>\n",
       "      <td>1.000000</td>\n",
       "      <td>NÃO</td>\n",
       "      <td>7.771429</td>\n",
       "      <td>1.000000</td>\n",
       "      <td>1.000000</td>\n",
       "      <td>0.000000</td>\n",
       "      <td>...</td>\n",
       "      <td>111</td>\n",
       "      <td>3.407013</td>\n",
       "      <td>457.94</td>\n",
       "      <td>0.0</td>\n",
       "      <td>19.552</td>\n",
       "      <td>5.3</td>\n",
       "      <td>3190.453</td>\n",
       "      <td>2.464</td>\n",
       "      <td>4.928</td>\n",
       "      <td>155.0</td>\n",
       "    </tr>\n",
       "    <tr>\n",
       "      <th>4</th>\n",
       "      <td>1</td>\n",
       "      <td>62</td>\n",
       "      <td>Não</td>\n",
       "      <td>0.0</td>\n",
       "      <td>1.000000</td>\n",
       "      <td>SIM</td>\n",
       "      <td>5.328358</td>\n",
       "      <td>2.014925</td>\n",
       "      <td>1.000000</td>\n",
       "      <td>1.000000</td>\n",
       "      <td>...</td>\n",
       "      <td>109</td>\n",
       "      <td>17.059704</td>\n",
       "      <td>614.94</td>\n",
       "      <td>0.0</td>\n",
       "      <td>24.491</td>\n",
       "      <td>4.0</td>\n",
       "      <td>4048.908</td>\n",
       "      <td>12.291</td>\n",
       "      <td>4.097</td>\n",
       "      <td>158.0</td>\n",
       "    </tr>\n",
       "  </tbody>\n",
       "</table>\n",
       "<p>5 rows × 24 columns</p>\n",
       "</div>"
      ],
      "text/plain": [
       "   churn  idade atuacao_previa_no_municipio  anos_atuacao_previa_no_municipio  \\\n",
       "0      0     35                         Não                               0.0   \n",
       "1      1     30                         Não                               0.0   \n",
       "2      0     75                         Não                               0.0   \n",
       "3      1     37                         Não                               0.0   \n",
       "4      1     62                         Não                               0.0   \n",
       "\n",
       "   media_vinculos_mes Prorrogado  m_agente_saude  m_tec_aux_enf  m_enfermeiro  \\\n",
       "0            2.343284        NÃO        9.473684       8.513158      4.815789   \n",
       "1            1.000000        NÃO       13.375000       1.000000      1.625000   \n",
       "2            1.000000        SIM        9.411765       3.562500      1.889706   \n",
       "3            1.000000        NÃO        7.771429       1.000000      1.000000   \n",
       "4            1.000000        SIM        5.328358       2.014925      1.000000   \n",
       "\n",
       "   m_dentista  ... variacao_pib  tx_pop_ocupada_2019 orcamento_saude  \\\n",
       "0    0.000000  ...           66            11.356216          366.57   \n",
       "1    1.000000  ...           61            15.844714          683.09   \n",
       "2    1.338235  ...          120             8.658503          626.30   \n",
       "3    0.000000  ...          111             3.407013          457.94   \n",
       "4    1.000000  ...          109            17.059704          614.94   \n",
       "\n",
       "   esgotamento_sanitario  taxa_homicidio  ideb_anosfinais  \\\n",
       "0                    0.0          33.946              4.3   \n",
       "1                    0.0          64.522              4.7   \n",
       "2                    0.0          37.161              4.6   \n",
       "3                    0.0          19.552              5.3   \n",
       "4                    0.0          24.491              4.0   \n",
       "\n",
       "   investimento_infraestrutura  equipamentos_esportivos  \\\n",
       "0                      103.676                    5.703   \n",
       "1                     5021.768                   18.540   \n",
       "2                     3097.942                    0.000   \n",
       "3                     3190.453                    2.464   \n",
       "4                     4048.908                   12.291   \n",
       "\n",
       "   equipamentos_culturais  distancia_capital  \n",
       "0                   9.125              636.0  \n",
       "1                   4.635              114.0  \n",
       "2                   4.144              147.0  \n",
       "3                   4.928              155.0  \n",
       "4                   4.097              158.0  \n",
       "\n",
       "[5 rows x 24 columns]"
      ]
     },
     "execution_count": 3,
     "metadata": {},
     "output_type": "execute_result"
    }
   ],
   "source": [
    "df.head()"
   ]
  },
  {
   "cell_type": "markdown",
   "metadata": {},
   "source": [
    "### Pré-processamento"
   ]
  },
  {
   "cell_type": "code",
   "execution_count": 4,
   "metadata": {},
   "outputs": [],
   "source": [
    "y = df['churn']  \n",
    "X = df.drop(columns=['churn']) \n",
    "\n",
    "num_features = X.select_dtypes(include=['int64', 'float64']).columns.tolist()\n",
    "cat_features = X.select_dtypes(include=['object', 'category']).columns.tolist()\n",
    "\n",
    "\n",
    "num_pipeline = Pipeline([\n",
    "    ('imputer', SimpleImputer(strategy='median')),\n",
    "    ('scaler', StandardScaler())\n",
    "])\n",
    "\n",
    "cat_pipeline = Pipeline([\n",
    "    ('imputer', SimpleImputer(strategy='most_frequent')),\n",
    "    ('onehot', OneHotEncoder(handle_unknown='ignore', drop = 'first'))\n",
    "])\n",
    "\n",
    "preprocessor = ColumnTransformer([\n",
    "    ('num', num_pipeline, num_features),\n",
    "    ('cat', cat_pipeline, cat_features)\n",
    "])\n",
    "\n",
    "X_transformed = preprocessor.fit_transform(X)\n",
    "\n"
   ]
  },
  {
   "cell_type": "markdown",
   "metadata": {},
   "source": [
    "## Dividindo em treino e teste"
   ]
  },
  {
   "cell_type": "code",
   "execution_count": 5,
   "metadata": {},
   "outputs": [],
   "source": [
    "X_train_transformed, X_test_transformed, y_train, y_test = train_test_split(X_transformed, y, test_size=0.2, stratify=y, random_state=42)"
   ]
  },
  {
   "cell_type": "code",
   "execution_count": 6,
   "metadata": {},
   "outputs": [],
   "source": [
    "smote = SMOTE(random_state=42)\n",
    "X_train_resampled, y_train_resampled = smote.fit_resample(X_train_transformed, y_train)"
   ]
  },
  {
   "cell_type": "markdown",
   "metadata": {},
   "source": [
    "## Instanciando modelos e rodando modelos"
   ]
  },
  {
   "cell_type": "code",
   "execution_count": 7,
   "metadata": {},
   "outputs": [
    {
     "name": "stderr",
     "output_type": "stream",
     "text": [
      "[I 2025-02-21 08:03:22,776] A new study created in memory with name: no-name-d3d10648-463c-43a6-a990-4aa80511b5a8\n"
     ]
    },
    {
     "name": "stdout",
     "output_type": "stream",
     "text": [
      "Otimizando modelo: Logistic Regression\n"
     ]
    },
    {
     "name": "stderr",
     "output_type": "stream",
     "text": [
      "[I 2025-02-21 08:03:24,368] Trial 0 finished with value: 0.7891885661595205 and parameters: {'C': 10}. Best is trial 0 with value: 0.7891885661595205.\n",
      "[I 2025-02-21 08:03:25,208] Trial 1 finished with value: 0.7954126325495621 and parameters: {'C': 0.1}. Best is trial 1 with value: 0.7954126325495621.\n",
      "[I 2025-02-21 08:03:26,056] Trial 2 finished with value: 0.7954126325495621 and parameters: {'C': 0.1}. Best is trial 1 with value: 0.7954126325495621.\n",
      "[I 2025-02-21 08:03:26,853] Trial 3 finished with value: 0.7891885661595205 and parameters: {'C': 10}. Best is trial 1 with value: 0.7954126325495621.\n",
      "[I 2025-02-21 08:03:27,686] Trial 4 finished with value: 0.7895343476256339 and parameters: {'C': 1}. Best is trial 1 with value: 0.7954126325495621.\n",
      "[I 2025-02-21 08:03:28,482] Trial 5 finished with value: 0.7891885661595205 and parameters: {'C': 10}. Best is trial 1 with value: 0.7954126325495621.\n",
      "[I 2025-02-21 08:03:29,275] Trial 6 finished with value: 0.7891885661595205 and parameters: {'C': 10}. Best is trial 1 with value: 0.7954126325495621.\n",
      "[I 2025-02-21 08:03:30,164] Trial 7 finished with value: 0.7954126325495621 and parameters: {'C': 0.1}. Best is trial 1 with value: 0.7954126325495621.\n",
      "[I 2025-02-21 08:03:30,179] Trial 8 finished with value: 0.7891885661595205 and parameters: {'C': 10}. Best is trial 1 with value: 0.7954126325495621.\n",
      "[I 2025-02-21 08:03:30,194] Trial 9 finished with value: 0.7891885661595205 and parameters: {'C': 10}. Best is trial 1 with value: 0.7954126325495621.\n",
      "[I 2025-02-21 08:03:30,214] Trial 10 finished with value: 0.8094744121715076 and parameters: {'C': 0.01}. Best is trial 10 with value: 0.8094744121715076.\n",
      "[I 2025-02-21 08:03:30,230] Trial 11 finished with value: 0.8094744121715076 and parameters: {'C': 0.01}. Best is trial 10 with value: 0.8094744121715076.\n",
      "[I 2025-02-21 08:03:30,248] Trial 12 finished with value: 0.8094744121715076 and parameters: {'C': 0.01}. Best is trial 10 with value: 0.8094744121715076.\n",
      "[I 2025-02-21 08:03:30,266] Trial 13 finished with value: 0.8094744121715076 and parameters: {'C': 0.01}. Best is trial 10 with value: 0.8094744121715076.\n",
      "[I 2025-02-21 08:03:30,283] Trial 14 finished with value: 0.8094744121715076 and parameters: {'C': 0.01}. Best is trial 10 with value: 0.8094744121715076.\n",
      "[I 2025-02-21 08:03:30,302] Trial 15 finished with value: 0.8094744121715076 and parameters: {'C': 0.01}. Best is trial 10 with value: 0.8094744121715076.\n",
      "[I 2025-02-21 08:03:30,316] Trial 16 finished with value: 0.8094744121715076 and parameters: {'C': 0.01}. Best is trial 10 with value: 0.8094744121715076.\n",
      "[I 2025-02-21 08:03:30,335] Trial 17 finished with value: 0.7895343476256339 and parameters: {'C': 1}. Best is trial 10 with value: 0.8094744121715076.\n",
      "[I 2025-02-21 08:03:30,353] Trial 18 finished with value: 0.8094744121715076 and parameters: {'C': 0.01}. Best is trial 10 with value: 0.8094744121715076.\n",
      "[I 2025-02-21 08:03:30,370] Trial 19 finished with value: 0.8094744121715076 and parameters: {'C': 0.01}. Best is trial 10 with value: 0.8094744121715076.\n",
      "[I 2025-02-21 08:03:30,374] A new study created in memory with name: no-name-c3054ab1-dd73-43ef-a847-890f0a9393d2\n",
      "[I 2025-02-21 08:03:30,392] Trial 0 finished with value: 0.7472625633932687 and parameters: {'max_depth': 3}. Best is trial 0 with value: 0.7472625633932687.\n",
      "[I 2025-02-21 08:03:30,406] Trial 1 finished with value: 0.717035500230521 and parameters: {'max_depth': 5}. Best is trial 0 with value: 0.7472625633932687.\n",
      "[I 2025-02-21 08:03:30,441] Trial 2 finished with value: 0.6598662978331028 and parameters: {'max_depth': 10}. Best is trial 0 with value: 0.7472625633932687.\n",
      "[I 2025-02-21 08:03:30,448] Trial 3 finished with value: 0.7472625633932687 and parameters: {'max_depth': 3}. Best is trial 0 with value: 0.7472625633932687.\n",
      "[I 2025-02-21 08:03:30,464] Trial 4 finished with value: 0.7472625633932687 and parameters: {'max_depth': 3}. Best is trial 0 with value: 0.7472625633932687.\n",
      "[I 2025-02-21 08:03:30,481] Trial 5 finished with value: 0.7305786076532964 and parameters: {'max_depth': 5}. Best is trial 0 with value: 0.7472625633932687.\n",
      "[I 2025-02-21 08:03:30,497] Trial 6 finished with value: 0.7306362378976486 and parameters: {'max_depth': 5}. Best is trial 0 with value: 0.7472625633932687.\n",
      "[I 2025-02-21 08:03:30,513] Trial 7 finished with value: 0.7305786076532964 and parameters: {'max_depth': 5}. Best is trial 0 with value: 0.7472625633932687.\n",
      "[I 2025-02-21 08:03:30,538] Trial 8 finished with value: 0.6432399723374828 and parameters: {'max_depth': 10}. Best is trial 0 with value: 0.7472625633932687.\n",
      "[I 2025-02-21 08:03:30,563] Trial 9 finished with value: 0.6568118948824343 and parameters: {'max_depth': 10}. Best is trial 0 with value: 0.7472625633932687.\n"
     ]
    },
    {
     "name": "stdout",
     "output_type": "stream",
     "text": [
      "Melhores parâmetros para Logistic Regression: {'C': 0.01}\n",
      "\n",
      "Otimizando modelo: Decision Tree\n"
     ]
    },
    {
     "name": "stderr",
     "output_type": "stream",
     "text": [
      "[I 2025-02-21 08:03:30,579] Trial 10 finished with value: 0.7472625633932687 and parameters: {'max_depth': 3}. Best is trial 0 with value: 0.7472625633932687.\n",
      "[I 2025-02-21 08:03:30,587] Trial 11 finished with value: 0.7472625633932687 and parameters: {'max_depth': 3}. Best is trial 0 with value: 0.7472625633932687.\n",
      "[I 2025-02-21 08:03:30,603] Trial 12 finished with value: 0.7472625633932687 and parameters: {'max_depth': 3}. Best is trial 0 with value: 0.7472625633932687.\n",
      "[I 2025-02-21 08:03:30,616] Trial 13 finished with value: 0.7472625633932687 and parameters: {'max_depth': 3}. Best is trial 0 with value: 0.7472625633932687.\n",
      "[I 2025-02-21 08:03:30,633] Trial 14 finished with value: 0.7472625633932687 and parameters: {'max_depth': 3}. Best is trial 0 with value: 0.7472625633932687.\n",
      "[I 2025-02-21 08:03:30,653] Trial 15 finished with value: 0.7472625633932687 and parameters: {'max_depth': 3}. Best is trial 0 with value: 0.7472625633932687.\n",
      "[I 2025-02-21 08:03:30,671] Trial 16 finished with value: 0.7472625633932687 and parameters: {'max_depth': 3}. Best is trial 0 with value: 0.7472625633932687.\n",
      "[I 2025-02-21 08:03:30,693] Trial 17 finished with value: 0.7472625633932687 and parameters: {'max_depth': 3}. Best is trial 0 with value: 0.7472625633932687.\n",
      "[I 2025-02-21 08:03:30,710] Trial 18 finished with value: 0.7472625633932687 and parameters: {'max_depth': 3}. Best is trial 0 with value: 0.7472625633932687.\n",
      "[I 2025-02-21 08:03:30,744] Trial 19 finished with value: 0.6441620562471184 and parameters: {'max_depth': 10}. Best is trial 0 with value: 0.7472625633932687.\n",
      "[I 2025-02-21 08:03:30,744] A new study created in memory with name: no-name-111e4878-291d-4625-90a5-9eadcce800da\n"
     ]
    },
    {
     "name": "stdout",
     "output_type": "stream",
     "text": [
      "Melhores parâmetros para Decision Tree: {'max_depth': 3}\n",
      "\n",
      "Otimizando modelo: Random Forest\n"
     ]
    },
    {
     "name": "stderr",
     "output_type": "stream",
     "text": [
      "[I 2025-02-21 08:03:31,300] Trial 0 finished with value: 0.8178307976025818 and parameters: {'n_estimators': 300, 'max_depth': 5, 'min_samples_split': 5}. Best is trial 0 with value: 0.8178307976025818.\n",
      "[I 2025-02-21 08:03:32,294] Trial 1 finished with value: 0.8120677731673582 and parameters: {'n_estimators': 500, 'max_depth': 10, 'min_samples_split': 10}. Best is trial 0 with value: 0.8178307976025818.\n",
      "[I 2025-02-21 08:03:33,080] Trial 2 finished with value: 0.815179806362379 and parameters: {'n_estimators': 500, 'max_depth': 5, 'min_samples_split': 2}. Best is trial 0 with value: 0.8178307976025818.\n",
      "[I 2025-02-21 08:03:33,293] Trial 3 finished with value: 0.8157561088059013 and parameters: {'n_estimators': 100, 'max_depth': 3, 'min_samples_split': 10}. Best is trial 0 with value: 0.8178307976025818.\n",
      "[I 2025-02-21 08:03:33,989] Trial 4 finished with value: 0.8189257722452743 and parameters: {'n_estimators': 300, 'max_depth': 3, 'min_samples_split': 5}. Best is trial 4 with value: 0.8189257722452743.\n",
      "[I 2025-02-21 08:03:34,763] Trial 5 finished with value: 0.8164476717381282 and parameters: {'n_estimators': 300, 'max_depth': 3, 'min_samples_split': 2}. Best is trial 4 with value: 0.8189257722452743.\n",
      "[I 2025-02-21 08:03:35,050] Trial 6 finished with value: 0.8197325956662056 and parameters: {'n_estimators': 100, 'max_depth': 3, 'min_samples_split': 5}. Best is trial 6 with value: 0.8197325956662056.\n",
      "[I 2025-02-21 08:03:35,509] Trial 7 finished with value: 0.8099930843706777 and parameters: {'n_estimators': 100, 'max_depth': 10, 'min_samples_split': 2}. Best is trial 6 with value: 0.8197325956662056.\n",
      "[I 2025-02-21 08:03:36,821] Trial 8 finished with value: 0.8160442600276625 and parameters: {'n_estimators': 300, 'max_depth': 5, 'min_samples_split': 5}. Best is trial 6 with value: 0.8197325956662056.\n",
      "[I 2025-02-21 08:03:38,591] Trial 9 finished with value: 0.8159866297833103 and parameters: {'n_estimators': 500, 'max_depth': 5, 'min_samples_split': 10}. Best is trial 6 with value: 0.8197325956662056.\n",
      "[I 2025-02-21 08:03:38,916] Trial 10 finished with value: 0.8150645458736745 and parameters: {'n_estimators': 100, 'max_depth': 3, 'min_samples_split': 5}. Best is trial 6 with value: 0.8197325956662056.\n",
      "[I 2025-02-21 08:03:39,232] Trial 11 finished with value: 0.816908713692946 and parameters: {'n_estimators': 100, 'max_depth': 3, 'min_samples_split': 5}. Best is trial 6 with value: 0.8197325956662056.\n",
      "[I 2025-02-21 08:03:40,208] Trial 12 finished with value: 0.8154103273397879 and parameters: {'n_estimators': 300, 'max_depth': 3, 'min_samples_split': 5}. Best is trial 6 with value: 0.8197325956662056.\n",
      "[I 2025-02-21 08:03:40,471] Trial 13 finished with value: 0.8202512678653757 and parameters: {'n_estimators': 100, 'max_depth': 3, 'min_samples_split': 5}. Best is trial 13 with value: 0.8202512678653757.\n",
      "[I 2025-02-21 08:03:40,710] Trial 14 finished with value: 0.8203665283540803 and parameters: {'n_estimators': 100, 'max_depth': 3, 'min_samples_split': 5}. Best is trial 14 with value: 0.8203665283540803.\n",
      "[I 2025-02-21 08:03:40,972] Trial 15 finished with value: 0.8112609497464269 and parameters: {'n_estimators': 100, 'max_depth': 3, 'min_samples_split': 5}. Best is trial 14 with value: 0.8203665283540803.\n",
      "[I 2025-02-21 08:03:41,273] Trial 16 finished with value: 0.7982365145228216 and parameters: {'n_estimators': 100, 'max_depth': 10, 'min_samples_split': 5}. Best is trial 14 with value: 0.8203665283540803.\n",
      "[I 2025-02-21 08:03:41,566] Trial 17 finished with value: 0.819098662978331 and parameters: {'n_estimators': 100, 'max_depth': 3, 'min_samples_split': 5}. Best is trial 14 with value: 0.8203665283540803.\n",
      "[I 2025-02-21 08:03:42,037] Trial 18 finished with value: 0.8182342093130476 and parameters: {'n_estimators': 100, 'max_depth': 3, 'min_samples_split': 10}. Best is trial 14 with value: 0.8203665283540803.\n",
      "[I 2025-02-21 08:03:42,439] Trial 19 finished with value: 0.8049792531120332 and parameters: {'n_estimators': 100, 'max_depth': 10, 'min_samples_split': 2}. Best is trial 14 with value: 0.8203665283540803.\n",
      "[I 2025-02-21 08:03:42,439] A new study created in memory with name: no-name-2c74285a-5486-437f-a618-ae8108e0991c\n",
      "c:\\Users\\Lapei_Cigets\\anaconda3\\Lib\\site-packages\\xgboost\\core.py:158: UserWarning: [08:03:42] WARNING: C:\\buildkite-agent\\builds\\buildkite-windows-cpu-autoscaling-group-i-08cbc0333d8d4aae1-1\\xgboost\\xgboost-ci-windows\\src\\learner.cc:740: \n",
      "Parameters: { \"use_label_encoder\" } are not used.\n",
      "\n",
      "  warnings.warn(smsg, UserWarning)\n"
     ]
    },
    {
     "name": "stdout",
     "output_type": "stream",
     "text": [
      "Melhores parâmetros para Random Forest: {'n_estimators': 100, 'max_depth': 3, 'min_samples_split': 5}\n",
      "\n",
      "Otimizando modelo: XGBoost\n"
     ]
    },
    {
     "name": "stderr",
     "output_type": "stream",
     "text": [
      "[I 2025-02-21 08:03:44,207] Trial 0 finished with value: 0.7891885661595206 and parameters: {'n_estimators': 300, 'max_depth': 9, 'learning_rate': 0.01, 'subsample': 0.85, 'colsample_bytree': 1.0, 'gamma': 0}. Best is trial 0 with value: 0.7891885661595206.\n",
      "c:\\Users\\Lapei_Cigets\\anaconda3\\Lib\\site-packages\\xgboost\\core.py:158: UserWarning: [08:03:44] WARNING: C:\\buildkite-agent\\builds\\buildkite-windows-cpu-autoscaling-group-i-08cbc0333d8d4aae1-1\\xgboost\\xgboost-ci-windows\\src\\learner.cc:740: \n",
      "Parameters: { \"use_label_encoder\" } are not used.\n",
      "\n",
      "  warnings.warn(smsg, UserWarning)\n",
      "[I 2025-02-21 08:03:44,606] Trial 1 finished with value: 0.8036249423697557 and parameters: {'n_estimators': 300, 'max_depth': 3, 'learning_rate': 0.01, 'subsample': 1.0, 'colsample_bytree': 0.85, 'gamma': 0.5}. Best is trial 1 with value: 0.8036249423697557.\n",
      "c:\\Users\\Lapei_Cigets\\anaconda3\\Lib\\site-packages\\xgboost\\core.py:158: UserWarning: [08:03:44] WARNING: C:\\buildkite-agent\\builds\\buildkite-windows-cpu-autoscaling-group-i-08cbc0333d8d4aae1-1\\xgboost\\xgboost-ci-windows\\src\\learner.cc:740: \n",
      "Parameters: { \"use_label_encoder\" } are not used.\n",
      "\n",
      "  warnings.warn(smsg, UserWarning)\n",
      "[I 2025-02-21 08:03:44,916] Trial 2 finished with value: 0.7709197786998617 and parameters: {'n_estimators': 300, 'max_depth': 3, 'learning_rate': 0.1, 'subsample': 1.0, 'colsample_bytree': 1.0, 'gamma': 0.1}. Best is trial 1 with value: 0.8036249423697557.\n",
      "c:\\Users\\Lapei_Cigets\\anaconda3\\Lib\\site-packages\\xgboost\\core.py:158: UserWarning: [08:03:44] WARNING: C:\\buildkite-agent\\builds\\buildkite-windows-cpu-autoscaling-group-i-08cbc0333d8d4aae1-1\\xgboost\\xgboost-ci-windows\\src\\learner.cc:740: \n",
      "Parameters: { \"use_label_encoder\" } are not used.\n",
      "\n",
      "  warnings.warn(smsg, UserWarning)\n",
      "[I 2025-02-21 08:03:45,721] Trial 3 finished with value: 0.8061318579990779 and parameters: {'n_estimators': 300, 'max_depth': 6, 'learning_rate': 0.01, 'subsample': 0.7, 'colsample_bytree': 0.7, 'gamma': 0.1}. Best is trial 3 with value: 0.8061318579990779.\n",
      "c:\\Users\\Lapei_Cigets\\anaconda3\\Lib\\site-packages\\xgboost\\core.py:158: UserWarning: [08:03:45] WARNING: C:\\buildkite-agent\\builds\\buildkite-windows-cpu-autoscaling-group-i-08cbc0333d8d4aae1-1\\xgboost\\xgboost-ci-windows\\src\\learner.cc:740: \n",
      "Parameters: { \"use_label_encoder\" } are not used.\n",
      "\n",
      "  warnings.warn(smsg, UserWarning)\n",
      "[I 2025-02-21 08:03:46,102] Trial 4 finished with value: 0.7850968188105117 and parameters: {'n_estimators': 300, 'max_depth': 3, 'learning_rate': 0.1, 'subsample': 0.85, 'colsample_bytree': 0.7, 'gamma': 0.1}. Best is trial 3 with value: 0.8061318579990779.\n",
      "c:\\Users\\Lapei_Cigets\\anaconda3\\Lib\\site-packages\\xgboost\\core.py:158: UserWarning: [08:03:46] WARNING: C:\\buildkite-agent\\builds\\buildkite-windows-cpu-autoscaling-group-i-08cbc0333d8d4aae1-1\\xgboost\\xgboost-ci-windows\\src\\learner.cc:740: \n",
      "Parameters: { \"use_label_encoder\" } are not used.\n",
      "\n",
      "  warnings.warn(smsg, UserWarning)\n",
      "[I 2025-02-21 08:03:46,254] Trial 5 finished with value: 0.8031639004149378 and parameters: {'n_estimators': 100, 'max_depth': 3, 'learning_rate': 0.01, 'subsample': 1.0, 'colsample_bytree': 1.0, 'gamma': 0}. Best is trial 3 with value: 0.8061318579990779.\n",
      "c:\\Users\\Lapei_Cigets\\anaconda3\\Lib\\site-packages\\xgboost\\core.py:158: UserWarning: [08:03:46] WARNING: C:\\buildkite-agent\\builds\\buildkite-windows-cpu-autoscaling-group-i-08cbc0333d8d4aae1-1\\xgboost\\xgboost-ci-windows\\src\\learner.cc:740: \n",
      "Parameters: { \"use_label_encoder\" } are not used.\n",
      "\n",
      "  warnings.warn(smsg, UserWarning)\n",
      "[I 2025-02-21 08:03:48,005] Trial 6 finished with value: 0.7922429691101891 and parameters: {'n_estimators': 300, 'max_depth': 9, 'learning_rate': 0.05, 'subsample': 1.0, 'colsample_bytree': 0.85, 'gamma': 0.1}. Best is trial 3 with value: 0.8061318579990779.\n",
      "c:\\Users\\Lapei_Cigets\\anaconda3\\Lib\\site-packages\\xgboost\\core.py:158: UserWarning: [08:03:48] WARNING: C:\\buildkite-agent\\builds\\buildkite-windows-cpu-autoscaling-group-i-08cbc0333d8d4aae1-1\\xgboost\\xgboost-ci-windows\\src\\learner.cc:740: \n",
      "Parameters: { \"use_label_encoder\" } are not used.\n",
      "\n",
      "  warnings.warn(smsg, UserWarning)\n",
      "[I 2025-02-21 08:03:48,882] Trial 7 finished with value: 0.7950668510834485 and parameters: {'n_estimators': 100, 'max_depth': 9, 'learning_rate': 0.01, 'subsample': 0.85, 'colsample_bytree': 0.85, 'gamma': 0.5}. Best is trial 3 with value: 0.8061318579990779.\n",
      "c:\\Users\\Lapei_Cigets\\anaconda3\\Lib\\site-packages\\xgboost\\core.py:158: UserWarning: [08:03:48] WARNING: C:\\buildkite-agent\\builds\\buildkite-windows-cpu-autoscaling-group-i-08cbc0333d8d4aae1-1\\xgboost\\xgboost-ci-windows\\src\\learner.cc:740: \n",
      "Parameters: { \"use_label_encoder\" } are not used.\n",
      "\n",
      "  warnings.warn(smsg, UserWarning)\n",
      "[I 2025-02-21 08:03:49,328] Trial 8 finished with value: 0.7918971876440757 and parameters: {'n_estimators': 300, 'max_depth': 3, 'learning_rate': 0.05, 'subsample': 0.85, 'colsample_bytree': 0.7, 'gamma': 0}. Best is trial 3 with value: 0.8061318579990779.\n",
      "c:\\Users\\Lapei_Cigets\\anaconda3\\Lib\\site-packages\\xgboost\\core.py:158: UserWarning: [08:03:49] WARNING: C:\\buildkite-agent\\builds\\buildkite-windows-cpu-autoscaling-group-i-08cbc0333d8d4aae1-1\\xgboost\\xgboost-ci-windows\\src\\learner.cc:740: \n",
      "Parameters: { \"use_label_encoder\" } are not used.\n",
      "\n",
      "  warnings.warn(smsg, UserWarning)\n",
      "[I 2025-02-21 08:03:50,304] Trial 9 finished with value: 0.7875172890733058 and parameters: {'n_estimators': 300, 'max_depth': 6, 'learning_rate': 0.05, 'subsample': 1.0, 'colsample_bytree': 0.7, 'gamma': 0.1}. Best is trial 3 with value: 0.8061318579990779.\n",
      "c:\\Users\\Lapei_Cigets\\anaconda3\\Lib\\site-packages\\xgboost\\core.py:158: UserWarning: [08:03:50] WARNING: C:\\buildkite-agent\\builds\\buildkite-windows-cpu-autoscaling-group-i-08cbc0333d8d4aae1-1\\xgboost\\xgboost-ci-windows\\src\\learner.cc:740: \n",
      "Parameters: { \"use_label_encoder\" } are not used.\n",
      "\n",
      "  warnings.warn(smsg, UserWarning)\n",
      "[I 2025-02-21 08:03:52,004] Trial 10 finished with value: 0.803192715537114 and parameters: {'n_estimators': 500, 'max_depth': 6, 'learning_rate': 0.01, 'subsample': 0.7, 'colsample_bytree': 0.7, 'gamma': 0.1}. Best is trial 3 with value: 0.8061318579990779.\n",
      "c:\\Users\\Lapei_Cigets\\anaconda3\\Lib\\site-packages\\xgboost\\core.py:158: UserWarning: [08:03:52] WARNING: C:\\buildkite-agent\\builds\\buildkite-windows-cpu-autoscaling-group-i-08cbc0333d8d4aae1-1\\xgboost\\xgboost-ci-windows\\src\\learner.cc:740: \n",
      "Parameters: { \"use_label_encoder\" } are not used.\n",
      "\n",
      "  warnings.warn(smsg, UserWarning)\n",
      "[I 2025-02-21 08:03:53,334] Trial 11 finished with value: 0.8011756569847857 and parameters: {'n_estimators': 500, 'max_depth': 6, 'learning_rate': 0.01, 'subsample': 0.7, 'colsample_bytree': 0.85, 'gamma': 0.5}. Best is trial 3 with value: 0.8061318579990779.\n",
      "c:\\Users\\Lapei_Cigets\\anaconda3\\Lib\\site-packages\\xgboost\\core.py:158: UserWarning: [08:03:53] WARNING: C:\\buildkite-agent\\builds\\buildkite-windows-cpu-autoscaling-group-i-08cbc0333d8d4aae1-1\\xgboost\\xgboost-ci-windows\\src\\learner.cc:740: \n",
      "Parameters: { \"use_label_encoder\" } are not used.\n",
      "\n",
      "  warnings.warn(smsg, UserWarning)\n",
      "[I 2025-02-21 08:03:54,138] Trial 12 finished with value: 0.8060742277547257 and parameters: {'n_estimators': 300, 'max_depth': 6, 'learning_rate': 0.01, 'subsample': 0.7, 'colsample_bytree': 0.85, 'gamma': 0.5}. Best is trial 3 with value: 0.8061318579990779.\n",
      "c:\\Users\\Lapei_Cigets\\anaconda3\\Lib\\site-packages\\xgboost\\core.py:158: UserWarning: [08:03:54] WARNING: C:\\buildkite-agent\\builds\\buildkite-windows-cpu-autoscaling-group-i-08cbc0333d8d4aae1-1\\xgboost\\xgboost-ci-windows\\src\\learner.cc:740: \n",
      "Parameters: { \"use_label_encoder\" } are not used.\n",
      "\n",
      "  warnings.warn(smsg, UserWarning)\n",
      "[I 2025-02-21 08:03:54,725] Trial 13 finished with value: 0.8058437067773168 and parameters: {'n_estimators': 300, 'max_depth': 6, 'learning_rate': 0.01, 'subsample': 0.7, 'colsample_bytree': 0.7, 'gamma': 0.5}. Best is trial 3 with value: 0.8061318579990779.\n",
      "c:\\Users\\Lapei_Cigets\\anaconda3\\Lib\\site-packages\\xgboost\\core.py:158: UserWarning: [08:03:54] WARNING: C:\\buildkite-agent\\builds\\buildkite-windows-cpu-autoscaling-group-i-08cbc0333d8d4aae1-1\\xgboost\\xgboost-ci-windows\\src\\learner.cc:740: \n",
      "Parameters: { \"use_label_encoder\" } are not used.\n",
      "\n",
      "  warnings.warn(smsg, UserWarning)\n",
      "[I 2025-02-21 08:03:55,216] Trial 14 finished with value: 0.7744352236053481 and parameters: {'n_estimators': 500, 'max_depth': 6, 'learning_rate': 0.1, 'subsample': 0.7, 'colsample_bytree': 0.85, 'gamma': 0.5}. Best is trial 3 with value: 0.8061318579990779.\n",
      "c:\\Users\\Lapei_Cigets\\anaconda3\\Lib\\site-packages\\xgboost\\core.py:158: UserWarning: [08:03:55] WARNING: C:\\buildkite-agent\\builds\\buildkite-windows-cpu-autoscaling-group-i-08cbc0333d8d4aae1-1\\xgboost\\xgboost-ci-windows\\src\\learner.cc:740: \n",
      "Parameters: { \"use_label_encoder\" } are not used.\n",
      "\n",
      "  warnings.warn(smsg, UserWarning)\n",
      "[I 2025-02-21 08:03:55,446] Trial 15 finished with value: 0.8043453204241586 and parameters: {'n_estimators': 100, 'max_depth': 6, 'learning_rate': 0.01, 'subsample': 0.7, 'colsample_bytree': 0.85, 'gamma': 0.1}. Best is trial 3 with value: 0.8061318579990779.\n",
      "c:\\Users\\Lapei_Cigets\\anaconda3\\Lib\\site-packages\\xgboost\\core.py:158: UserWarning: [08:03:55] WARNING: C:\\buildkite-agent\\builds\\buildkite-windows-cpu-autoscaling-group-i-08cbc0333d8d4aae1-1\\xgboost\\xgboost-ci-windows\\src\\learner.cc:740: \n",
      "Parameters: { \"use_label_encoder\" } are not used.\n",
      "\n",
      "  warnings.warn(smsg, UserWarning)\n",
      "[I 2025-02-21 08:03:56,111] Trial 16 finished with value: 0.8058437067773168 and parameters: {'n_estimators': 300, 'max_depth': 6, 'learning_rate': 0.01, 'subsample': 0.7, 'colsample_bytree': 0.7, 'gamma': 0.5}. Best is trial 3 with value: 0.8061318579990779.\n",
      "c:\\Users\\Lapei_Cigets\\anaconda3\\Lib\\site-packages\\xgboost\\core.py:158: UserWarning: [08:03:56] WARNING: C:\\buildkite-agent\\builds\\buildkite-windows-cpu-autoscaling-group-i-08cbc0333d8d4aae1-1\\xgboost\\xgboost-ci-windows\\src\\learner.cc:740: \n",
      "Parameters: { \"use_label_encoder\" } are not used.\n",
      "\n",
      "  warnings.warn(smsg, UserWarning)\n",
      "[I 2025-02-21 08:03:56,789] Trial 17 finished with value: 0.8076302443522361 and parameters: {'n_estimators': 300, 'max_depth': 6, 'learning_rate': 0.01, 'subsample': 0.7, 'colsample_bytree': 0.85, 'gamma': 0.1}. Best is trial 17 with value: 0.8076302443522361.\n",
      "c:\\Users\\Lapei_Cigets\\anaconda3\\Lib\\site-packages\\xgboost\\core.py:158: UserWarning: [08:03:56] WARNING: C:\\buildkite-agent\\builds\\buildkite-windows-cpu-autoscaling-group-i-08cbc0333d8d4aae1-1\\xgboost\\xgboost-ci-windows\\src\\learner.cc:740: \n",
      "Parameters: { \"use_label_encoder\" } are not used.\n",
      "\n",
      "  warnings.warn(smsg, UserWarning)\n",
      "[I 2025-02-21 08:03:57,012] Trial 18 finished with value: 0.786364684186261 and parameters: {'n_estimators': 100, 'max_depth': 6, 'learning_rate': 0.1, 'subsample': 0.7, 'colsample_bytree': 0.7, 'gamma': 0.1}. Best is trial 17 with value: 0.8076302443522361.\n",
      "c:\\Users\\Lapei_Cigets\\anaconda3\\Lib\\site-packages\\xgboost\\core.py:158: UserWarning: [08:03:57] WARNING: C:\\buildkite-agent\\builds\\buildkite-windows-cpu-autoscaling-group-i-08cbc0333d8d4aae1-1\\xgboost\\xgboost-ci-windows\\src\\learner.cc:740: \n",
      "Parameters: { \"use_label_encoder\" } are not used.\n",
      "\n",
      "  warnings.warn(smsg, UserWarning)\n",
      "[I 2025-02-21 08:03:58,339] Trial 19 finished with value: 0.7803711387736284 and parameters: {'n_estimators': 500, 'max_depth': 6, 'learning_rate': 0.05, 'subsample': 0.7, 'colsample_bytree': 1.0, 'gamma': 0.1}. Best is trial 17 with value: 0.8076302443522361.\n",
      "[I 2025-02-21 08:03:58,343] A new study created in memory with name: no-name-75f61a0a-251d-447e-b328-5be49fe87f02\n"
     ]
    },
    {
     "name": "stdout",
     "output_type": "stream",
     "text": [
      "Melhores parâmetros para XGBoost: {'n_estimators': 300, 'max_depth': 6, 'learning_rate': 0.01, 'subsample': 0.7, 'colsample_bytree': 0.85, 'gamma': 0.1}\n",
      "\n",
      "Otimizando modelo: LightGBM\n",
      "[LightGBM] [Info] Number of positive: 962, number of negative: 962\n",
      "[LightGBM] [Info] Auto-choosing row-wise multi-threading, the overhead of testing was 0.002127 seconds.\n",
      "You can set `force_row_wise=true` to remove the overhead.\n",
      "And if memory is not enough, you can set `force_col_wise=true`.\n",
      "[LightGBM] [Info] Total Bins 5012\n",
      "[LightGBM] [Info] Number of data points in the train set: 1924, number of used features: 28\n",
      "[LightGBM] [Info] [binary:BoostFromScore]: pavg=0.500000 -> initscore=0.000000\n"
     ]
    },
    {
     "name": "stderr",
     "output_type": "stream",
     "text": [
      "[I 2025-02-21 08:03:59,339] Trial 0 finished with value: 0.7755878284923928 and parameters: {'n_estimators': 500, 'learning_rate': 0.05, 'num_leaves': 20, 'min_child_samples': 10}. Best is trial 0 with value: 0.7755878284923928.\n"
     ]
    },
    {
     "name": "stdout",
     "output_type": "stream",
     "text": [
      "[LightGBM] [Info] Number of positive: 962, number of negative: 962\n",
      "[LightGBM] [Info] Auto-choosing col-wise multi-threading, the overhead of testing was 0.000861 seconds.\n",
      "You can set `force_col_wise=true` to remove the overhead.\n",
      "[LightGBM] [Info] Total Bins 5012\n",
      "[LightGBM] [Info] Number of data points in the train set: 1924, number of used features: 28\n",
      "[LightGBM] [Info] [binary:BoostFromScore]: pavg=0.500000 -> initscore=0.000000\n"
     ]
    },
    {
     "name": "stderr",
     "output_type": "stream",
     "text": [
      "[I 2025-02-21 08:03:59,658] Trial 1 finished with value: 0.7635142923005994 and parameters: {'n_estimators': 100, 'learning_rate': 0.01, 'num_leaves': 40, 'min_child_samples': 10}. Best is trial 0 with value: 0.7755878284923928.\n"
     ]
    },
    {
     "name": "stdout",
     "output_type": "stream",
     "text": [
      "[LightGBM] [Info] Number of positive: 962, number of negative: 962\n",
      "[LightGBM] [Info] Auto-choosing col-wise multi-threading, the overhead of testing was 0.000808 seconds.\n",
      "You can set `force_col_wise=true` to remove the overhead.\n",
      "[LightGBM] [Info] Total Bins 5012\n",
      "[LightGBM] [Info] Number of data points in the train set: 1924, number of used features: 28\n",
      "[LightGBM] [Info] [binary:BoostFromScore]: pavg=0.500000 -> initscore=0.000000\n"
     ]
    },
    {
     "name": "stderr",
     "output_type": "stream",
     "text": [
      "[I 2025-02-21 08:04:00,574] Trial 2 finished with value: 0.7683840479483633 and parameters: {'n_estimators': 300, 'learning_rate': 0.1, 'num_leaves': 40, 'min_child_samples': 30}. Best is trial 0 with value: 0.7755878284923928.\n"
     ]
    },
    {
     "name": "stdout",
     "output_type": "stream",
     "text": [
      "[LightGBM] [Info] Number of positive: 962, number of negative: 962\n",
      "[LightGBM] [Info] Auto-choosing col-wise multi-threading, the overhead of testing was 0.000635 seconds.\n",
      "You can set `force_col_wise=true` to remove the overhead.\n",
      "[LightGBM] [Info] Total Bins 5012\n",
      "[LightGBM] [Info] Number of data points in the train set: 1924, number of used features: 28\n",
      "[LightGBM] [Info] [binary:BoostFromScore]: pavg=0.500000 -> initscore=0.000000\n"
     ]
    },
    {
     "name": "stderr",
     "output_type": "stream",
     "text": [
      "[I 2025-02-21 08:04:01,423] Trial 3 finished with value: 0.7733978792070079 and parameters: {'n_estimators': 500, 'learning_rate': 0.1, 'num_leaves': 20, 'min_child_samples': 30}. Best is trial 0 with value: 0.7755878284923928.\n"
     ]
    },
    {
     "name": "stdout",
     "output_type": "stream",
     "text": [
      "[LightGBM] [Info] Number of positive: 962, number of negative: 962\n",
      "[LightGBM] [Info] Auto-choosing col-wise multi-threading, the overhead of testing was 0.000871 seconds.\n",
      "You can set `force_col_wise=true` to remove the overhead.\n",
      "[LightGBM] [Info] Total Bins 5012\n",
      "[LightGBM] [Info] Number of data points in the train set: 1924, number of used features: 28\n",
      "[LightGBM] [Info] [binary:BoostFromScore]: pavg=0.500000 -> initscore=0.000000\n"
     ]
    },
    {
     "name": "stderr",
     "output_type": "stream",
     "text": [
      "[I 2025-02-21 08:04:01,800] Trial 4 finished with value: 0.7756454587367452 and parameters: {'n_estimators': 100, 'learning_rate': 0.05, 'num_leaves': 40, 'min_child_samples': 10}. Best is trial 4 with value: 0.7756454587367452.\n"
     ]
    },
    {
     "name": "stdout",
     "output_type": "stream",
     "text": [
      "[LightGBM] [Info] Number of positive: 962, number of negative: 962\n",
      "[LightGBM] [Info] Auto-choosing col-wise multi-threading, the overhead of testing was 0.001040 seconds.\n",
      "You can set `force_col_wise=true` to remove the overhead.\n",
      "[LightGBM] [Info] Total Bins 5012\n",
      "[LightGBM] [Info] Number of data points in the train set: 1924, number of used features: 28\n",
      "[LightGBM] [Info] [binary:BoostFromScore]: pavg=0.500000 -> initscore=0.000000\n"
     ]
    },
    {
     "name": "stderr",
     "output_type": "stream",
     "text": [
      "[I 2025-02-21 08:04:03,202] Trial 5 finished with value: 0.7733978792070078 and parameters: {'n_estimators': 500, 'learning_rate': 0.01, 'num_leaves': 40, 'min_child_samples': 10}. Best is trial 4 with value: 0.7756454587367452.\n"
     ]
    },
    {
     "name": "stdout",
     "output_type": "stream",
     "text": [
      "[LightGBM] [Info] Number of positive: 962, number of negative: 962\n",
      "[LightGBM] [Info] Auto-choosing col-wise multi-threading, the overhead of testing was 0.000866 seconds.\n",
      "You can set `force_col_wise=true` to remove the overhead.\n",
      "[LightGBM] [Info] Total Bins 5012\n",
      "[LightGBM] [Info] Number of data points in the train set: 1924, number of used features: 28\n",
      "[LightGBM] [Info] [binary:BoostFromScore]: pavg=0.500000 -> initscore=0.000000\n"
     ]
    },
    {
     "name": "stderr",
     "output_type": "stream",
     "text": [
      "[I 2025-02-21 08:04:03,968] Trial 6 finished with value: 0.7759912402028585 and parameters: {'n_estimators': 300, 'learning_rate': 0.01, 'num_leaves': 40, 'min_child_samples': 10}. Best is trial 6 with value: 0.7759912402028585.\n"
     ]
    },
    {
     "name": "stdout",
     "output_type": "stream",
     "text": [
      "[LightGBM] [Info] Number of positive: 962, number of negative: 962\n",
      "[LightGBM] [Info] Auto-choosing col-wise multi-threading, the overhead of testing was 0.000709 seconds.\n",
      "You can set `force_col_wise=true` to remove the overhead.\n",
      "[LightGBM] [Info] Total Bins 5012\n",
      "[LightGBM] [Info] Number of data points in the train set: 1924, number of used features: 28\n",
      "[LightGBM] [Info] [binary:BoostFromScore]: pavg=0.500000 -> initscore=0.000000\n"
     ]
    },
    {
     "name": "stderr",
     "output_type": "stream",
     "text": [
      "[I 2025-02-21 08:04:04,637] Trial 7 finished with value: 0.7702858460119871 and parameters: {'n_estimators': 300, 'learning_rate': 0.1, 'num_leaves': 31, 'min_child_samples': 10}. Best is trial 6 with value: 0.7759912402028585.\n"
     ]
    },
    {
     "name": "stdout",
     "output_type": "stream",
     "text": [
      "[LightGBM] [Info] Number of positive: 962, number of negative: 962\n",
      "[LightGBM] [Info] Auto-choosing col-wise multi-threading, the overhead of testing was 0.000942 seconds.\n",
      "You can set `force_col_wise=true` to remove the overhead.\n",
      "[LightGBM] [Info] Total Bins 5012\n",
      "[LightGBM] [Info] Number of data points in the train set: 1924, number of used features: 28\n",
      "[LightGBM] [Info] [binary:BoostFromScore]: pavg=0.500000 -> initscore=0.000000\n"
     ]
    },
    {
     "name": "stderr",
     "output_type": "stream",
     "text": [
      "[I 2025-02-21 08:04:05,908] Trial 8 finished with value: 0.7709197786998617 and parameters: {'n_estimators': 500, 'learning_rate': 0.01, 'num_leaves': 40, 'min_child_samples': 20}. Best is trial 6 with value: 0.7759912402028585.\n"
     ]
    },
    {
     "name": "stdout",
     "output_type": "stream",
     "text": [
      "[LightGBM] [Info] Number of positive: 962, number of negative: 962\n",
      "[LightGBM] [Info] Auto-choosing col-wise multi-threading, the overhead of testing was 0.002463 seconds.\n",
      "You can set `force_col_wise=true` to remove the overhead.\n",
      "[LightGBM] [Info] Total Bins 5012\n",
      "[LightGBM] [Info] Number of data points in the train set: 1924, number of used features: 28\n",
      "[LightGBM] [Info] [binary:BoostFromScore]: pavg=0.500000 -> initscore=0.000000\n"
     ]
    },
    {
     "name": "stderr",
     "output_type": "stream",
     "text": [
      "[I 2025-02-21 08:04:06,577] Trial 9 finished with value: 0.7878054402950669 and parameters: {'n_estimators': 300, 'learning_rate': 0.01, 'num_leaves': 20, 'min_child_samples': 10}. Best is trial 9 with value: 0.7878054402950669.\n"
     ]
    },
    {
     "name": "stdout",
     "output_type": "stream",
     "text": [
      "[LightGBM] [Info] Number of positive: 962, number of negative: 962\n",
      "[LightGBM] [Info] Auto-choosing col-wise multi-threading, the overhead of testing was 0.000794 seconds.\n",
      "You can set `force_col_wise=true` to remove the overhead.\n",
      "[LightGBM] [Info] Total Bins 5012\n",
      "[LightGBM] [Info] Number of data points in the train set: 1924, number of used features: 28\n",
      "[LightGBM] [Info] [binary:BoostFromScore]: pavg=0.500000 -> initscore=0.000000\n"
     ]
    },
    {
     "name": "stderr",
     "output_type": "stream",
     "text": [
      "[I 2025-02-21 08:04:07,255] Trial 10 finished with value: 0.7844628861226371 and parameters: {'n_estimators': 300, 'learning_rate': 0.01, 'num_leaves': 20, 'min_child_samples': 20}. Best is trial 9 with value: 0.7878054402950669.\n"
     ]
    },
    {
     "name": "stdout",
     "output_type": "stream",
     "text": [
      "[LightGBM] [Info] Number of positive: 962, number of negative: 962\n",
      "[LightGBM] [Info] Auto-choosing col-wise multi-threading, the overhead of testing was 0.000718 seconds.\n",
      "You can set `force_col_wise=true` to remove the overhead.\n",
      "[LightGBM] [Info] Total Bins 5012\n",
      "[LightGBM] [Info] Number of data points in the train set: 1924, number of used features: 28\n",
      "[LightGBM] [Info] [binary:BoostFromScore]: pavg=0.500000 -> initscore=0.000000\n"
     ]
    },
    {
     "name": "stderr",
     "output_type": "stream",
     "text": [
      "[I 2025-02-21 08:04:07,681] Trial 11 finished with value: 0.7844628861226371 and parameters: {'n_estimators': 300, 'learning_rate': 0.01, 'num_leaves': 20, 'min_child_samples': 20}. Best is trial 9 with value: 0.7878054402950669.\n"
     ]
    },
    {
     "name": "stdout",
     "output_type": "stream",
     "text": [
      "[LightGBM] [Info] Number of positive: 962, number of negative: 962\n",
      "[LightGBM] [Info] Auto-choosing col-wise multi-threading, the overhead of testing was 0.000767 seconds.\n",
      "You can set `force_col_wise=true` to remove the overhead.\n",
      "[LightGBM] [Info] Total Bins 5012\n",
      "[LightGBM] [Info] Number of data points in the train set: 1924, number of used features: 28\n",
      "[LightGBM] [Info] [binary:BoostFromScore]: pavg=0.500000 -> initscore=0.000000\n"
     ]
    },
    {
     "name": "stderr",
     "output_type": "stream",
     "text": [
      "[I 2025-02-21 08:04:08,072] Trial 12 finished with value: 0.7844628861226371 and parameters: {'n_estimators': 300, 'learning_rate': 0.01, 'num_leaves': 20, 'min_child_samples': 20}. Best is trial 9 with value: 0.7878054402950669.\n"
     ]
    },
    {
     "name": "stdout",
     "output_type": "stream",
     "text": [
      "[LightGBM] [Info] Number of positive: 962, number of negative: 962\n",
      "[LightGBM] [Info] Auto-choosing col-wise multi-threading, the overhead of testing was 0.000662 seconds.\n",
      "You can set `force_col_wise=true` to remove the overhead.\n",
      "[LightGBM] [Info] Total Bins 5012\n",
      "[LightGBM] [Info] Number of data points in the train set: 1924, number of used features: 28\n",
      "[LightGBM] [Info] [binary:BoostFromScore]: pavg=0.500000 -> initscore=0.000000\n"
     ]
    },
    {
     "name": "stderr",
     "output_type": "stream",
     "text": [
      "[I 2025-02-21 08:04:08,444] Trial 13 finished with value: 0.7844628861226371 and parameters: {'n_estimators': 300, 'learning_rate': 0.01, 'num_leaves': 20, 'min_child_samples': 20}. Best is trial 9 with value: 0.7878054402950669.\n"
     ]
    },
    {
     "name": "stdout",
     "output_type": "stream",
     "text": [
      "[LightGBM] [Info] Number of positive: 962, number of negative: 962\n",
      "[LightGBM] [Info] Auto-choosing col-wise multi-threading, the overhead of testing was 0.000678 seconds.\n",
      "You can set `force_col_wise=true` to remove the overhead.\n",
      "[LightGBM] [Info] Total Bins 5012\n",
      "[LightGBM] [Info] Number of data points in the train set: 1924, number of used features: 28\n",
      "[LightGBM] [Info] [binary:BoostFromScore]: pavg=0.500000 -> initscore=0.000000\n"
     ]
    },
    {
     "name": "stderr",
     "output_type": "stream",
     "text": [
      "[I 2025-02-21 08:04:08,991] Trial 14 finished with value: 0.7821000461041955 and parameters: {'n_estimators': 300, 'learning_rate': 0.01, 'num_leaves': 31, 'min_child_samples': 20}. Best is trial 9 with value: 0.7878054402950669.\n"
     ]
    },
    {
     "name": "stdout",
     "output_type": "stream",
     "text": [
      "[LightGBM] [Info] Number of positive: 962, number of negative: 962\n",
      "[LightGBM] [Info] Auto-choosing col-wise multi-threading, the overhead of testing was 0.000642 seconds.\n",
      "You can set `force_col_wise=true` to remove the overhead.\n",
      "[LightGBM] [Info] Total Bins 5012\n",
      "[LightGBM] [Info] Number of data points in the train set: 1924, number of used features: 28\n",
      "[LightGBM] [Info] [binary:BoostFromScore]: pavg=0.500000 -> initscore=0.000000\n"
     ]
    },
    {
     "name": "stderr",
     "output_type": "stream",
     "text": [
      "[I 2025-02-21 08:04:09,320] Trial 15 finished with value: 0.776106500691563 and parameters: {'n_estimators': 300, 'learning_rate': 0.05, 'num_leaves': 20, 'min_child_samples': 30}. Best is trial 9 with value: 0.7878054402950669.\n",
      "[I 2025-02-21 08:04:09,492] Trial 16 finished with value: 0.7794778699861687 and parameters: {'n_estimators': 100, 'learning_rate': 0.01, 'num_leaves': 20, 'min_child_samples': 20}. Best is trial 9 with value: 0.7878054402950669.\n"
     ]
    },
    {
     "name": "stdout",
     "output_type": "stream",
     "text": [
      "[LightGBM] [Info] Number of positive: 962, number of negative: 962\n",
      "[LightGBM] [Info] Auto-choosing col-wise multi-threading, the overhead of testing was 0.000702 seconds.\n",
      "You can set `force_col_wise=true` to remove the overhead.\n",
      "[LightGBM] [Info] Total Bins 5012\n",
      "[LightGBM] [Info] Number of data points in the train set: 1924, number of used features: 28\n",
      "[LightGBM] [Info] [binary:BoostFromScore]: pavg=0.500000 -> initscore=0.000000\n",
      "[LightGBM] [Info] Number of positive: 962, number of negative: 962\n",
      "[LightGBM] [Info] Auto-choosing col-wise multi-threading, the overhead of testing was 0.000743 seconds.\n",
      "You can set `force_col_wise=true` to remove the overhead.\n",
      "[LightGBM] [Info] Total Bins 5012\n",
      "[LightGBM] [Info] Number of data points in the train set: 1924, number of used features: 28\n",
      "[LightGBM] [Info] [binary:BoostFromScore]: pavg=0.500000 -> initscore=0.000000\n"
     ]
    },
    {
     "name": "stderr",
     "output_type": "stream",
     "text": [
      "[I 2025-02-21 08:04:09,991] Trial 17 finished with value: 0.7844628861226371 and parameters: {'n_estimators': 300, 'learning_rate': 0.01, 'num_leaves': 20, 'min_child_samples': 20}. Best is trial 9 with value: 0.7878054402950669.\n"
     ]
    },
    {
     "name": "stdout",
     "output_type": "stream",
     "text": [
      "[LightGBM] [Info] Number of positive: 962, number of negative: 962\n",
      "[LightGBM] [Info] Auto-choosing col-wise multi-threading, the overhead of testing was 0.000723 seconds.\n",
      "You can set `force_col_wise=true` to remove the overhead.\n",
      "[LightGBM] [Info] Total Bins 5012\n",
      "[LightGBM] [Info] Number of data points in the train set: 1924, number of used features: 28\n",
      "[LightGBM] [Info] [binary:BoostFromScore]: pavg=0.500000 -> initscore=0.000000\n"
     ]
    },
    {
     "name": "stderr",
     "output_type": "stream",
     "text": [
      "[I 2025-02-21 08:04:10,679] Trial 18 finished with value: 0.786364684186261 and parameters: {'n_estimators': 300, 'learning_rate': 0.05, 'num_leaves': 31, 'min_child_samples': 10}. Best is trial 9 with value: 0.7878054402950669.\n"
     ]
    },
    {
     "name": "stdout",
     "output_type": "stream",
     "text": [
      "[LightGBM] [Info] Number of positive: 962, number of negative: 962\n",
      "[LightGBM] [Info] Auto-choosing col-wise multi-threading, the overhead of testing was 0.000880 seconds.\n",
      "You can set `force_col_wise=true` to remove the overhead.\n",
      "[LightGBM] [Info] Total Bins 5012\n",
      "[LightGBM] [Info] Number of data points in the train set: 1924, number of used features: 28\n",
      "[LightGBM] [Info] [binary:BoostFromScore]: pavg=0.500000 -> initscore=0.000000\n"
     ]
    },
    {
     "name": "stderr",
     "output_type": "stream",
     "text": [
      "[I 2025-02-21 08:04:10,927] Trial 19 finished with value: 0.7791032733978791 and parameters: {'n_estimators': 100, 'learning_rate': 0.05, 'num_leaves': 31, 'min_child_samples': 10}. Best is trial 9 with value: 0.7878054402950669.\n",
      "[I 2025-02-21 08:04:10,927] A new study created in memory with name: no-name-a56f7592-8288-4ffd-8ce6-674555361c38\n"
     ]
    },
    {
     "name": "stdout",
     "output_type": "stream",
     "text": [
      "Melhores parâmetros para LightGBM: {'n_estimators': 300, 'learning_rate': 0.01, 'num_leaves': 20, 'min_child_samples': 10}\n",
      "\n",
      "Otimizando modelo: Support Vector Classifier\n"
     ]
    },
    {
     "name": "stderr",
     "output_type": "stream",
     "text": [
      "[I 2025-02-21 08:04:42,085] Trial 0 finished with value: 0.7594513600737668 and parameters: {'C': 10, 'kernel': 'linear', 'gamma': 'auto'}. Best is trial 0 with value: 0.7594513600737668.\n",
      "[I 2025-02-21 08:04:42,782] Trial 1 finished with value: 0.7256800368833564 and parameters: {'C': 10, 'kernel': 'rbf', 'gamma': 'scale'}. Best is trial 0 with value: 0.7594513600737668.\n",
      "[I 2025-02-21 08:04:43,468] Trial 2 finished with value: 0.7677501152604888 and parameters: {'C': 1, 'kernel': 'rbf', 'gamma': 'auto'}. Best is trial 2 with value: 0.7677501152604888.\n",
      "[I 2025-02-21 08:05:21,264] Trial 3 finished with value: 0.7594513600737668 and parameters: {'C': 10, 'kernel': 'linear', 'gamma': 'scale'}. Best is trial 2 with value: 0.7677501152604888.\n",
      "[I 2025-02-21 08:05:21,909] Trial 4 finished with value: 0.7677501152604888 and parameters: {'C': 1, 'kernel': 'rbf', 'gamma': 'auto'}. Best is trial 2 with value: 0.7677501152604888.\n",
      "[I 2025-02-21 08:05:23,166] Trial 5 finished with value: 0.756108805901337 and parameters: {'C': 0.1, 'kernel': 'linear', 'gamma': 'scale'}. Best is trial 2 with value: 0.7677501152604888.\n",
      "[I 2025-02-21 08:06:03,501] Trial 6 finished with value: 0.7594513600737668 and parameters: {'C': 10, 'kernel': 'linear', 'gamma': 'scale'}. Best is trial 2 with value: 0.7677501152604888.\n",
      "[I 2025-02-21 08:06:30,588] Trial 7 finished with value: 0.7594513600737668 and parameters: {'C': 10, 'kernel': 'linear', 'gamma': 'auto'}. Best is trial 2 with value: 0.7677501152604888.\n",
      "[I 2025-02-21 08:06:31,282] Trial 8 finished with value: 0.7591055786076534 and parameters: {'C': 1, 'kernel': 'rbf', 'gamma': 'scale'}. Best is trial 2 with value: 0.7677501152604888.\n",
      "[I 2025-02-21 08:06:31,909] Trial 9 finished with value: 0.7677501152604888 and parameters: {'C': 1, 'kernel': 'rbf', 'gamma': 'auto'}. Best is trial 2 with value: 0.7677501152604888.\n",
      "[I 2025-02-21 08:06:32,696] Trial 10 finished with value: 0.8013197325956662 and parameters: {'C': 0.1, 'kernel': 'rbf', 'gamma': 'auto'}. Best is trial 10 with value: 0.8013197325956662.\n",
      "[I 2025-02-21 08:06:33,451] Trial 11 finished with value: 0.8013197325956662 and parameters: {'C': 0.1, 'kernel': 'rbf', 'gamma': 'auto'}. Best is trial 10 with value: 0.8013197325956662.\n",
      "[I 2025-02-21 08:06:34,222] Trial 12 finished with value: 0.8013485477178424 and parameters: {'C': 0.1, 'kernel': 'rbf', 'gamma': 'auto'}. Best is trial 12 with value: 0.8013485477178424.\n",
      "[I 2025-02-21 08:06:34,963] Trial 13 finished with value: 0.8013197325956662 and parameters: {'C': 0.1, 'kernel': 'rbf', 'gamma': 'auto'}. Best is trial 12 with value: 0.8013485477178424.\n",
      "[I 2025-02-21 08:06:35,723] Trial 14 finished with value: 0.8013197325956662 and parameters: {'C': 0.1, 'kernel': 'rbf', 'gamma': 'auto'}. Best is trial 12 with value: 0.8013485477178424.\n",
      "[I 2025-02-21 08:06:36,492] Trial 15 finished with value: 0.8013197325956662 and parameters: {'C': 0.1, 'kernel': 'rbf', 'gamma': 'auto'}. Best is trial 12 with value: 0.8013485477178424.\n",
      "[I 2025-02-21 08:06:37,246] Trial 16 finished with value: 0.8013197325956662 and parameters: {'C': 0.1, 'kernel': 'rbf', 'gamma': 'auto'}. Best is trial 12 with value: 0.8013485477178424.\n",
      "[I 2025-02-21 08:06:38,159] Trial 17 finished with value: 0.8013197325956662 and parameters: {'C': 0.1, 'kernel': 'rbf', 'gamma': 'auto'}. Best is trial 12 with value: 0.8013485477178424.\n",
      "[I 2025-02-21 08:06:39,009] Trial 18 finished with value: 0.8013485477178424 and parameters: {'C': 0.1, 'kernel': 'rbf', 'gamma': 'auto'}. Best is trial 12 with value: 0.8013485477178424.\n",
      "[I 2025-02-21 08:06:39,877] Trial 19 finished with value: 0.8013197325956662 and parameters: {'C': 0.1, 'kernel': 'rbf', 'gamma': 'auto'}. Best is trial 12 with value: 0.8013485477178424.\n"
     ]
    },
    {
     "name": "stdout",
     "output_type": "stream",
     "text": [
      "Melhores parâmetros para Support Vector Classifier: {'C': 0.1, 'kernel': 'rbf', 'gamma': 'auto'}\n",
      "\n"
     ]
    },
    {
     "name": "stderr",
     "output_type": "stream",
     "text": [
      "c:\\Users\\Lapei_Cigets\\anaconda3\\Lib\\site-packages\\xgboost\\core.py:158: UserWarning: [08:06:39] WARNING: C:\\buildkite-agent\\builds\\buildkite-windows-cpu-autoscaling-group-i-08cbc0333d8d4aae1-1\\xgboost\\xgboost-ci-windows\\src\\learner.cc:740: \n",
      "Parameters: { \"use_label_encoder\" } are not used.\n",
      "\n",
      "  warnings.warn(smsg, UserWarning)\n"
     ]
    }
   ],
   "source": [
    "# Modelos\n",
    "models = {\n",
    "    'Logistic Regression': LogisticRegression(n_jobs=-1),\n",
    "    'Decision Tree': DecisionTreeClassifier(),\n",
    "    'Random Forest': RandomForestClassifier(n_jobs=-1),\n",
    "    'XGBoost': xgb.XGBClassifier(use_label_encoder=False, eval_metric='logloss', tree_method='hist'),\n",
    "    'LightGBM': lgb.LGBMClassifier(),\n",
    "    'Support Vector Classifier': SVC(probability=True)\n",
    "}\n",
    "\n",
    "# Hiperparâmetros para GridSearch\n",
    "param_grids = {\n",
    "    'Logistic Regression': {'C': [0.01, 0.1, 1, 10]},\n",
    "    'Decision Tree': {'max_depth': [3, 5, 10]},\n",
    "    'Random Forest': {\n",
    "        'n_estimators': [100, 300, 500],\n",
    "        'max_depth': [3, 5, 10],\n",
    "        'min_samples_split': [2, 5, 10]\n",
    "    },\n",
    "    'XGBoost': {\n",
    "        'n_estimators': [100, 300, 500],\n",
    "        'max_depth': [3, 6, 9],\n",
    "        'learning_rate': [0.01, 0.05, 0.1],\n",
    "        'subsample': [0.7, 0.85, 1.0],\n",
    "        'colsample_bytree': [0.7, 0.85, 1.0],\n",
    "        'gamma': [0, 0.1, 0.5]\n",
    "    },\n",
    "    'LightGBM': {\n",
    "        'n_estimators': [100, 300, 500],\n",
    "        'learning_rate': [0.01, 0.05, 0.1],\n",
    "        'num_leaves': [20, 31, 40],\n",
    "        'min_child_samples': [10, 20, 30]\n",
    "    },\n",
    "    'Support Vector Classifier': {\n",
    "        'C': [0.1, 1, 10],\n",
    "        'kernel': ['linear', 'rbf'],\n",
    "        'gamma': ['scale', 'auto']\n",
    "    }\n",
    "}\n",
    "\n",
    "# Validação cruzada e otimização de hiperparâmetros com Optuna\n",
    "best_models = {}\n",
    "\n",
    "def objective(trial, model, X_train_resampled, y_train_resampled):\n",
    "    param_grid = param_grids.get(model, {})\n",
    "    trial_params = {k: trial.suggest_categorical(k, v) if isinstance(v, list) else trial.suggest_float(k, v[0], v[1]) for k, v in param_grid.items()}\n",
    "    clf = models[model].set_params(**trial_params)\n",
    "    clf.fit(X_train_resampled, y_train_resampled)\n",
    "    y_prob = clf.predict_proba(X_test_transformed)[:, 1]\n",
    "    return roc_auc_score(y_test, y_prob)\n",
    "\n",
    "for name, model in models.items():\n",
    "    print(f\"Otimizando modelo: {name}\")\n",
    "    study = optuna.create_study(direction='maximize')\n",
    "    study.optimize(lambda trial: objective(trial, name, X_train_resampled, y_train_resampled), n_trials=20)\n",
    "    best_models[name] = models[name].set_params(**study.best_params)\n",
    "    print(f\"Melhores parâmetros para {name}: {study.best_params}\\n\")\n",
    "\n",
    "# Avaliação final no conjunto de teste\n",
    "results = []\n",
    "for name, model in best_models.items():\n",
    "    y_pred = model.predict(X_test_transformed)\n",
    "    y_prob = model.predict_proba(X_test_transformed)[:, 1]\n",
    "    results.append({\n",
    "        'Model': name,\n",
    "        'Accuracy': accuracy_score(y_test, y_pred),\n",
    "        'Precision': precision_score(y_test, y_pred),\n",
    "        'Recall': recall_score(y_test, y_pred),\n",
    "        'F1 Score': f1_score(y_test, y_pred),\n",
    "        'ROC AUC': roc_auc_score(y_test, y_prob)\n",
    "    })\n"
   ]
  },
  {
   "cell_type": "code",
   "execution_count": 8,
   "metadata": {},
   "outputs": [
    {
     "name": "stdout",
     "output_type": "stream",
     "text": [
      "                       Model  Accuracy  Precision    Recall  F1 Score  \\\n",
      "0        Logistic Regression  0.741214   0.925532  0.721992  0.811189   \n",
      "2              Random Forest  0.750799   0.879070  0.784232  0.828947   \n",
      "5  Support Vector Classifier  0.693291   0.914286  0.663900  0.769231   \n",
      "3                    XGBoost  0.738019   0.829876  0.829876  0.829876   \n",
      "4                   LightGBM  0.728435   0.842105  0.796680  0.818763   \n",
      "1              Decision Tree  0.728435   0.861111  0.771784  0.814004   \n",
      "\n",
      "    ROC AUC  \n",
      "0  0.809474  \n",
      "2  0.804979  \n",
      "5  0.801320  \n",
      "3  0.780371  \n",
      "4  0.779103  \n",
      "1  0.644162  \n"
     ]
    }
   ],
   "source": [
    "results_df = pd.DataFrame(results)\n",
    "print(results_df.sort_values(by='ROC AUC', ascending=False))"
   ]
  },
  {
   "cell_type": "code",
   "execution_count": 9,
   "metadata": {},
   "outputs": [],
   "source": [
    "best_model_name = results_df.sort_values(by='ROC AUC', \n",
    "                                         ascending=False).iloc[0]['Model']\n",
    "\n",
    "best_model = best_models[best_model_name]\n"
   ]
  },
  {
   "cell_type": "code",
   "execution_count": 10,
   "metadata": {},
   "outputs": [
    {
     "data": {
      "image/png": "[encoded data removed]",
      "text/plain": [
       "<Figure size 800x600 with 1 Axes>"
      ]
     },
     "metadata": {},
     "output_type": "display_data"
    }
   ],
   "source": [
    "plt.figure(figsize=(8, 6))\n",
    "for name, model in best_models.items():\n",
    "    y_prob = model.predict_proba(X_test_transformed)[:, 1]\n",
    "    fpr, tpr, _ = roc_curve(y_test, y_prob)\n",
    "    roc_auc = auc(fpr, tpr)\n",
    "    plt.plot(fpr, tpr, label=f'{name} (AUC = {roc_auc:.2f})')\n",
    "\n",
    "plt.plot([0, 1], [0, 1], linestyle='--', color='gray')\n",
    "plt.xlabel('False Positive Rate')\n",
    "plt.ylabel('True Positive Rate')\n",
    "plt.title('Curvas ROC para os Modelos')\n",
    "plt.legend()\n",
    "plt.show()"
   ]
  },
  {
   "cell_type": "code",
   "execution_count": 11,
   "metadata": {},
   "outputs": [
    {
     "data": {
      "image/png": "[encoded data removed]",
      "text/plain": [
       "<Figure size 600x400 with 2 Axes>"
      ]
     },
     "metadata": {},
     "output_type": "display_data"
    }
   ],
   "source": [
    "y_pred_best = best_model.predict(X_test_transformed)\n",
    "cm = confusion_matrix(y_test, y_pred_best)\n",
    "plt.figure(figsize=(6, 4))\n",
    "sns.heatmap(cm, annot=True, fmt='d', cmap='Blues', xticklabels=['Permanece', 'Migrou'], yticklabels=['Permanece', 'Migrou'])\n",
    "plt.xlabel('Previsto')\n",
    "plt.ylabel('Real')\n",
    "plt.title(f'Matriz de Confusão - {best_model_name}')\n",
    "plt.show()\n"
   ]
  },
  {
   "cell_type": "code",
   "execution_count": 15,
   "metadata": {},
   "outputs": [
    {
     "name": "stdout",
     "output_type": "stream",
     "text": [
      "Melhor limiar: 0.20682495992259575 com F1 Score: 0.8729281767955801\n"
     ]
    },
    {
     "data": {
      "image/png": "[encoded data removed]",
      "text/plain": [
       "<Figure size 600x400 with 2 Axes>"
      ]
     },
     "metadata": {},
     "output_type": "display_data"
    }
   ],
   "source": [
    "# Ajuste de limiar\n",
    "y_prob_best = best_model.predict_proba(X_test_transformed)[:, 1]\n",
    "precisions, recalls, thresholds = precision_recall_curve(y_test, y_prob_best)\n",
    "\n",
    "# Encontrar o melhor limiar com base no F1 Score\n",
    "best_threshold = 0.5\n",
    "best_f1 = 0\n",
    "for threshold in thresholds:\n",
    "    y_pred_adjusted = (y_prob_best >= threshold).astype(int)\n",
    "    f1 = f1_score(y_test, y_pred_adjusted)\n",
    "    if f1 > best_f1:\n",
    "        best_f1 = f1\n",
    "        best_threshold = threshold\n",
    "\n",
    "print(f\"Melhor limiar: {best_threshold} com F1 Score: {best_f1}\")\n",
    "\n",
    "# Matriz de Confusão com limiar ajustado\n",
    "y_pred_adjusted = (y_prob_best >= best_threshold).astype(int)\n",
    "cm_adjusted = confusion_matrix(y_test, y_pred_adjusted)\n",
    "plt.figure(figsize=(6, 4))\n",
    "sns.heatmap(cm_adjusted, annot=True, fmt='d', cmap='Blues', xticklabels=['Permanece', 'Migrou'], yticklabels=['Permanece', 'Migrou'])\n",
    "plt.xlabel('Previsto')\n",
    "plt.ylabel('Real')\n",
    "plt.title(f'Matriz de Confusão - Ajuste de Limiar ({best_model_name})')\n",
    "plt.show()"
   ]
  },
  {
   "cell_type": "code",
   "execution_count": 16,
   "metadata": {},
   "outputs": [
    {
     "name": "stdout",
     "output_type": "stream",
     "text": [
      "ROC AUC:  0.5403123559243891\n",
      "Precision:  0.7847682119205298\n",
      "Accuracy:  0.7795527156549521\n",
      "Recall:  0.983402489626556\n",
      "F1 Score:  0.7692307692307693\n",
      "Houve perda da área abaixo da curva ROC e no Recall. Nas outras métricas, houve melhora\n"
     ]
    }
   ],
   "source": [
    "print(\"ROC AUC: \", roc_auc_score(y_test, y_pred_adjusted))\n",
    "print(\"Precision: \", precision_score(y_test, y_pred_adjusted))\n",
    "print(\"Accuracy: \", accuracy_score(y_test, y_pred_adjusted))\n",
    "print(\"Recall: \", recall_score(y_test, y_pred_adjusted))\n",
    "print(\"F1 Score: \", f1_score(y_test, y_pred))\n",
    "print(\"Houve perda da área abaixo da curva ROC e no Recall. Nas outras métricas, houve melhora\")"
   ]
  },
  {
   "cell_type": "code",
   "execution_count": 17,
   "metadata": {},
   "outputs": [
    {
     "name": "stdout",
     "output_type": "stream",
     "text": [
      "O melhor modelo não é uma Random Forest.\n"
     ]
    }
   ],
   "source": [
    "if isinstance(best_model, RandomForestClassifier):\n",
    "    plt.figure(figsize=(20, 10))\n",
    "    plot_tree(best_model.estimators_[0],  # Pegamos a primeira árvore da floresta\n",
    "              feature_names=feature_names,\n",
    "              class_names=['Permanece', 'Migrou'],\n",
    "              filled=True,\n",
    "              rounded=True)\n",
    "    plt.title(\"Visualização de uma árvore da Random Forest\")\n",
    "    plt.savefig(\"random_forest_tree.svg\", format=\"svg\")\n",
    "    plt.show()\n",
    "    \n",
    "    # Gerar gráfico de importância das features com eixos invertidos\n",
    "    feature_importances = pd.Series(best_model.feature_importances_, index=feature_names).sort_values()\n",
    "    plt.figure(figsize=(10, 8))\n",
    "    feature_importances.plot(kind='barh')\n",
    "    plt.title(\"Importância das Features na Random Forest\")\n",
    "    plt.xlabel(\"Importância\")\n",
    "    plt.ylabel(\"Feature\")\n",
    "    plt.savefig(\"random_forest_feature_importance.svg\", format=\"svg\")\n",
    "    plt.show()\n",
    "else:\n",
    "    print(\"O melhor modelo não é uma Random Forest.\")"
   ]
  },
  {
   "cell_type": "markdown",
   "metadata": {},
   "source": [
    "# SHAP"
   ]
  },
  {
   "cell_type": "markdown",
   "metadata": {},
   "source": [
    "O código abaixo é usado para treinar o modelo com a base completa"
   ]
  },
  {
   "cell_type": "code",
   "execution_count": 23,
   "metadata": {},
   "outputs": [
    {
     "ename": "AttributeError",
     "evalue": "'LogisticRegression' object has no attribute 'named_steps'",
     "output_type": "error",
     "traceback": [
      "\u001b[1;31m---------------------------------------------------------------------------\u001b[0m",
      "\u001b[1;31mAttributeError\u001b[0m                            Traceback (most recent call last)",
      "Cell \u001b[1;32mIn[23], line 2\u001b[0m\n\u001b[0;32m      1\u001b[0m \u001b[38;5;66;03m# Aplicar a transformação nos dados de entrada\u001b[39;00m\n\u001b[1;32m----> 2\u001b[0m X_transformed \u001b[38;5;241m=\u001b[39m best_model\u001b[38;5;241m.\u001b[39mnamed_steps[\u001b[38;5;124m'\u001b[39m\u001b[38;5;124mpreprocessor\u001b[39m\u001b[38;5;124m'\u001b[39m]\u001b[38;5;241m.\u001b[39mtransform(X)\n\u001b[0;32m      4\u001b[0m \u001b[38;5;66;03m# Criar o explicador SHAP para a regressão logística usando predict_proba\u001b[39;00m\n\u001b[0;32m      5\u001b[0m explainer \u001b[38;5;241m=\u001b[39m shap\u001b[38;5;241m.\u001b[39mExplainer(best_model\u001b[38;5;241m.\u001b[39mnamed_steps[\u001b[38;5;124m'\u001b[39m\u001b[38;5;124mclassifier\u001b[39m\u001b[38;5;124m'\u001b[39m]\u001b[38;5;241m.\u001b[39mpredict_proba, X_transformed)\n",
      "\u001b[1;31mAttributeError\u001b[0m: 'LogisticRegression' object has no attribute 'named_steps'"
     ]
    }
   ],
   "source": [
    "# Aplicar a transformação nos dados de entrada\n",
    "X_transformed = best_model.named_steps['preprocessor'].transform(X)\n",
    "\n",
    "# Criar o explicador SHAP para a regressão logística usando predict_proba\n",
    "explainer = shap.Explainer(best_model.named_steps['classifier'].predict_proba, X_transformed)\n",
    "\n",
    "# Obter os valores SHAP para a classe positiva (índice 1 do predict_proba)\n",
    "shap_values = explainer(X_transformed)\n",
    "\n",
    "# Converter X_transformed para DataFrame com os nomes das colunas originais\n",
    "X_transformed_df = pd.DataFrame(X_transformed, columns=best_model.named_steps['preprocessor'].get_feature_names_out())\n",
    "\n",
    "# Criar os gráficos de explicabilidade\n",
    "shap.summary_plot(shap_values[..., 1], X_transformed_df, feature_names=X_transformed_df.columns)\n",
    "shap.summary_plot(shap_values[..., 1], X_transformed_df, feature_names=X_transformed_df.columns, plot_type=\"bar\")\n"
   ]
  }
 ],
 "metadata": {
  "kernelspec": {
   "display_name": "base",
   "language": "python",
   "name": "python3"
  },
  "language_info": {
   "codemirror_mode": {
    "name": "ipython",
    "version": 3
   },
   "file_extension": ".py",
   "mimetype": "text/x-python",
   "name": "python",
   "nbconvert_exporter": "python",
   "pygments_lexer": "ipython3",
   "version": "3.12.4"
  }
 },
 "nbformat": 4,
 "nbformat_minor": 2
}
